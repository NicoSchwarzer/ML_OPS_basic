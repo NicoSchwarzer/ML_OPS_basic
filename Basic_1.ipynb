{
 "cells": [
  {
   "cell_type": "markdown",
   "metadata": {},
   "source": [
    "## ML OPS 1"
   ]
  },
  {
   "cell_type": "markdown",
   "metadata": {},
   "source": [
    "### Coockie Cutter for managing structure"
   ]
  },
  {
   "cell_type": "code",
   "execution_count": 3,
   "metadata": {},
   "outputs": [
    {
     "name": "stdout",
     "output_type": "stream",
     "text": [
      "Collecting cookiecutter\n",
      "  Downloading cookiecutter-2.1.1-py2.py3-none-any.whl (36 kB)\n",
      "Requirement already satisfied: Jinja2<4.0.0,>=2.7 in c:\\users\\nico\\anaconda3\\lib\\site-packages (from cookiecutter) (2.11.3)\n",
      "Requirement already satisfied: pyyaml>=5.3.1 in c:\\users\\nico\\anaconda3\\lib\\site-packages (from cookiecutter) (5.4.1)\n",
      "Requirement already satisfied: click<9.0.0,>=7.0 in c:\\users\\nico\\anaconda3\\lib\\site-packages (from cookiecutter) (7.1.2)\n",
      "Requirement already satisfied: requests>=2.23.0 in c:\\users\\nico\\anaconda3\\lib\\site-packages (from cookiecutter) (2.25.1)\n",
      "Collecting jinja2-time>=0.2.0\n",
      "  Downloading jinja2_time-0.2.0-py2.py3-none-any.whl (6.4 kB)\n",
      "Collecting python-slugify>=4.0.0\n",
      "  Downloading python_slugify-6.1.2-py2.py3-none-any.whl (9.4 kB)\n",
      "Collecting binaryornot>=0.4.4\n",
      "  Downloading binaryornot-0.4.4-py2.py3-none-any.whl (9.0 kB)\n",
      "Requirement already satisfied: chardet>=3.0.2 in c:\\users\\nico\\anaconda3\\lib\\site-packages (from binaryornot>=0.4.4->cookiecutter) (4.0.0)\n",
      "Requirement already satisfied: MarkupSafe>=0.23 in c:\\users\\nico\\anaconda3\\lib\\site-packages (from Jinja2<4.0.0,>=2.7->cookiecutter) (1.1.1)\n",
      "Collecting arrow\n",
      "  Downloading arrow-1.2.3-py3-none-any.whl (66 kB)\n",
      "Collecting text-unidecode>=1.3\n",
      "  Downloading text_unidecode-1.3-py2.py3-none-any.whl (78 kB)\n",
      "Requirement already satisfied: urllib3<1.27,>=1.21.1 in c:\\users\\nico\\anaconda3\\lib\\site-packages (from requests>=2.23.0->cookiecutter) (1.26.4)\n",
      "Requirement already satisfied: certifi>=2017.4.17 in c:\\users\\nico\\anaconda3\\lib\\site-packages (from requests>=2.23.0->cookiecutter) (2020.12.5)\n",
      "Requirement already satisfied: idna<3,>=2.5 in c:\\users\\nico\\anaconda3\\lib\\site-packages (from requests>=2.23.0->cookiecutter) (2.10)\n",
      "Requirement already satisfied: python-dateutil>=2.7.0 in c:\\users\\nico\\anaconda3\\lib\\site-packages (from arrow->jinja2-time>=0.2.0->cookiecutter) (2.8.1)\n",
      "Requirement already satisfied: six>=1.5 in c:\\users\\nico\\anaconda3\\lib\\site-packages (from python-dateutil>=2.7.0->arrow->jinja2-time>=0.2.0->cookiecutter) (1.15.0)\n",
      "Installing collected packages: text-unidecode, arrow, python-slugify, jinja2-time, binaryornot, cookiecutter\n",
      "Successfully installed arrow-1.2.3 binaryornot-0.4.4 cookiecutter-2.1.1 jinja2-time-0.2.0 python-slugify-6.1.2 text-unidecode-1.3\n"
     ]
    }
   ],
   "source": [
    "!pip install cookiecutter"
   ]
  },
  {
   "cell_type": "code",
   "execution_count": 4,
   "metadata": {},
   "outputs": [],
   "source": [
    "import cookiecutter"
   ]
  },
  {
   "cell_type": "code",
   "execution_count": null,
   "metadata": {},
   "outputs": [],
   "source": [
    "## using pre-defined strcture of folders based on this GH template \n",
    "\n",
    "!cookiecutter https://github.com/khuyentran1401/data-science-template\n"
   ]
  },
  {
   "cell_type": "markdown",
   "metadata": {},
   "source": [
    "## Poetry for Dependency Management"
   ]
  },
  {
   "cell_type": "code",
   "execution_count": null,
   "metadata": {},
   "outputs": [],
   "source": [
    "#!pip install poetry\n",
    "\n",
    "# as alternative for usiing well-updated requirement.txt file with structure such as \n",
    "\n",
    "#torch == version etc."
   ]
  },
  {
   "cell_type": "markdown",
   "metadata": {},
   "source": [
    "## Makefile for for readable commands for configuration files"
   ]
  },
  {
   "cell_type": "code",
   "execution_count": 2,
   "metadata": {},
   "outputs": [],
   "source": [
    "# more on this later"
   ]
  },
  {
   "cell_type": "markdown",
   "metadata": {},
   "source": [
    "# HYDRA / YAML\n",
    "\n",
    "creates configuration files (txt) that contain parameters essential to the DS project. Hard coding such relevant variables into the code is not best practice. \n",
    "YAML is the common language for this!\n",
    "\n",
    "\n"
   ]
  },
  {
   "cell_type": "code",
   "execution_count": 3,
   "metadata": {},
   "outputs": [
    {
     "name": "stdout",
     "output_type": "stream",
     "text": [
      "Collecting hydra\n",
      "  Downloading Hydra-2.5.tar.gz (82 kB)\n",
      "Building wheels for collected packages: hydra\n",
      "  Building wheel for hydra (setup.py): started\n",
      "  Building wheel for hydra (setup.py): finished with status 'error'\n"
     ]
    },
    {
     "name": "stderr",
     "output_type": "stream",
     "text": [
      "  ERROR: Command errored out with exit status 1:\n",
      "   command: 'C:\\Users\\Nico\\anaconda3\\python.exe' -u -c 'import sys, setuptools, tokenize; sys.argv[0] = '\"'\"'C:\\\\Users\\\\Nico\\\\AppData\\\\Local\\\\Temp\\\\pip-install-evq6pk_o\\\\hydra_1f9e085f17204774b8c787a33897fbbf\\\\setup.py'\"'\"'; __file__='\"'\"'C:\\\\Users\\\\Nico\\\\AppData\\\\Local\\\\Temp\\\\pip-install-evq6pk_o\\\\hydra_1f9e085f17204774b8c787a33897fbbf\\\\setup.py'\"'\"';f=getattr(tokenize, '\"'\"'open'\"'\"', open)(__file__);code=f.read().replace('\"'\"'\\r\\n'\"'\"', '\"'\"'\\n'\"'\"');f.close();exec(compile(code, __file__, '\"'\"'exec'\"'\"'))' bdist_wheel -d 'C:\\Users\\Nico\\AppData\\Local\\Temp\\pip-wheel-e91pgmu8'\n",
      "       cwd: C:\\Users\\Nico\\AppData\\Local\\Temp\\pip-install-evq6pk_o\\hydra_1f9e085f17204774b8c787a33897fbbf\\\n",
      "  Complete output (9 lines):\n",
      "  running bdist_wheel\n",
      "  running build\n",
      "  running build_py\n",
      "  creating build\n",
      "  creating build\\lib.win-amd64-3.8\n",
      "  copying src\\hydra.py -> build\\lib.win-amd64-3.8\n",
      "  running build_ext\n",
      "  building '_hydra' extension\n",
      "  error: Microsoft Visual C++ 14.0 or greater is required. Get it with \"Microsoft C++ Build Tools\": https://visualstudio.microsoft.com/visual-cpp-build-tools/\n",
      "  ----------------------------------------\n",
      "  ERROR: Failed building wheel for hydra\n",
      "    ERROR: Command errored out with exit status 1:\n",
      "     command: 'C:\\Users\\Nico\\anaconda3\\python.exe' -u -c 'import sys, setuptools, tokenize; sys.argv[0] = '\"'\"'C:\\\\Users\\\\Nico\\\\AppData\\\\Local\\\\Temp\\\\pip-install-evq6pk_o\\\\hydra_1f9e085f17204774b8c787a33897fbbf\\\\setup.py'\"'\"'; __file__='\"'\"'C:\\\\Users\\\\Nico\\\\AppData\\\\Local\\\\Temp\\\\pip-install-evq6pk_o\\\\hydra_1f9e085f17204774b8c787a33897fbbf\\\\setup.py'\"'\"';f=getattr(tokenize, '\"'\"'open'\"'\"', open)(__file__);code=f.read().replace('\"'\"'\\r\\n'\"'\"', '\"'\"'\\n'\"'\"');f.close();exec(compile(code, __file__, '\"'\"'exec'\"'\"'))' install --record 'C:\\Users\\Nico\\AppData\\Local\\Temp\\pip-record-cpsfa4ky\\install-record.txt' --single-version-externally-managed --compile --install-headers 'C:\\Users\\Nico\\anaconda3\\Include\\hydra'\n",
      "         cwd: C:\\Users\\Nico\\AppData\\Local\\Temp\\pip-install-evq6pk_o\\hydra_1f9e085f17204774b8c787a33897fbbf\\\n",
      "    Complete output (9 lines):\n",
      "    running install\n",
      "    running build\n",
      "    running build_py\n"
     ]
    },
    {
     "name": "stdout",
     "output_type": "stream",
     "text": [
      "  Running setup.py clean for hydra\n",
      "Failed to build hydra\n",
      "Installing collected packages: hydra\n",
      "    Running setup.py install for hydra: started\n",
      "    Running setup.py install for hydra: finished with status 'error'\n"
     ]
    },
    {
     "name": "stderr",
     "output_type": "stream",
     "text": [
      "    creating build\n",
      "    creating build\\lib.win-amd64-3.8\n",
      "    copying src\\hydra.py -> build\\lib.win-amd64-3.8\n",
      "    running build_ext\n",
      "    building '_hydra' extension\n",
      "    error: Microsoft Visual C++ 14.0 or greater is required. Get it with \"Microsoft C++ Build Tools\": https://visualstudio.microsoft.com/visual-cpp-build-tools/\n",
      "    ----------------------------------------\n",
      "ERROR: Command errored out with exit status 1: 'C:\\Users\\Nico\\anaconda3\\python.exe' -u -c 'import sys, setuptools, tokenize; sys.argv[0] = '\"'\"'C:\\\\Users\\\\Nico\\\\AppData\\\\Local\\\\Temp\\\\pip-install-evq6pk_o\\\\hydra_1f9e085f17204774b8c787a33897fbbf\\\\setup.py'\"'\"'; __file__='\"'\"'C:\\\\Users\\\\Nico\\\\AppData\\\\Local\\\\Temp\\\\pip-install-evq6pk_o\\\\hydra_1f9e085f17204774b8c787a33897fbbf\\\\setup.py'\"'\"';f=getattr(tokenize, '\"'\"'open'\"'\"', open)(__file__);code=f.read().replace('\"'\"'\\r\\n'\"'\"', '\"'\"'\\n'\"'\"');f.close();exec(compile(code, __file__, '\"'\"'exec'\"'\"'))' install --record 'C:\\Users\\Nico\\AppData\\Local\\Temp\\pip-record-cpsfa4ky\\install-record.txt' --single-version-externally-managed --compile --install-headers 'C:\\Users\\Nico\\anaconda3\\Include\\hydra' Check the logs for full command output.\n"
     ]
    }
   ],
   "source": [
    "!pip install hydra"
   ]
  },
  {
   "cell_type": "code",
   "execution_count": 6,
   "metadata": {},
   "outputs": [
    {
     "ename": "SyntaxError",
     "evalue": "unexpected EOF while parsing (<ipython-input-6-c48ff29dae14>, line 5)",
     "output_type": "error",
     "traceback": [
      "\u001b[1;36m  File \u001b[1;32m\"<ipython-input-6-c48ff29dae14>\"\u001b[1;36m, line \u001b[1;32m5\u001b[0m\n\u001b[1;33m    \u001b[0m\n\u001b[1;37m    ^\u001b[0m\n\u001b[1;31mSyntaxError\u001b[0m\u001b[1;31m:\u001b[0m unexpected EOF while parsing\n"
     ]
    }
   ],
   "source": [
    "\n",
    "\n",
    "import numpy as np\n",
    "import pandas as pd\n",
    "\n",
    "from sklearn.model_selection import train_test_split\n",
    "import joblib\n",
    "\n",
    "from pipeline import pipeline\n",
    "import hydra\n",
    "from hydra import utils\n",
    "import os\n",
    "\n",
    "\n",
    "\n",
    "@hydra.main(config_name='preprocessing')\n",
    "def run_training(config):\n",
    "    \"\"\"Train the model.\"\"\"\n",
    "\n",
    "    #print(os.getcwd())\n",
    "    current_path = utils.get_original_cwd() + \"/\"\n",
    "    # read training data\n",
    "    data = pd.read_csv(current_path + config.dataset.data,  encoding=config.dataset.encoding)\n",
    "\n",
    "    # divide train and test\n",
    "    X_train, X_test, y_train, y_test = train_test_split(\n",
    "        data.drop(config.target.target, axis=1),\n",
    "        data[config.target.target],\n",
    "        test_size=0.1,\n",
    "        random_state=0)  # we are setting the seed here\n",
    "    X_train.reset_index(inplace=True, drop=True)\n",
    "    X_test.reset_index(inplace=True, drop=True)\n",
    "\n",
    "    # transform the target\n",
    "    #y_train = np.log(y_train)\n",
    "    #y_test = np.log(y_test)\n",
    "\n",
    "    match_pipe = pipeline(config)\n",
    "    match_pipe.fit(X_train, y_train)\n",
    "    joblib.dump(match_pipe, utils.to_absolute_path(config.pipeline.pipeline01))\n",
    "\n",
    "\n",
    "if __name__ == '__main__':\n",
    "    run_training()\n"
   ]
  },
  {
   "cell_type": "code",
   "execution_count": null,
   "metadata": {},
   "outputs": [],
   "source": []
  }
 ],
 "metadata": {
  "kernelspec": {
   "display_name": "Python 3.8.8 ('base')",
   "language": "python",
   "name": "python3"
  },
  "language_info": {
   "codemirror_mode": {
    "name": "ipython",
    "version": 3
   },
   "file_extension": ".py",
   "mimetype": "text/x-python",
   "name": "python",
   "nbconvert_exporter": "python",
   "pygments_lexer": "ipython3",
   "version": "3.8.8"
  },
  "orig_nbformat": 4,
  "vscode": {
   "interpreter": {
    "hash": "34e8128e29b7ed1895e4d80c4e4085209096f3e91bb1891b855459ad7766fa74"
   }
  }
 },
 "nbformat": 4,
 "nbformat_minor": 2
}
