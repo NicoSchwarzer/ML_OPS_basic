{
 "cells": [
  {
   "cell_type": "markdown",
   "metadata": {},
   "source": [
    "## ML OPS 1"
   ]
  },
  {
   "cell_type": "markdown",
   "metadata": {},
   "source": [
    "### Coockie Cutter for managing structure"
   ]
  },
  {
   "cell_type": "code",
   "execution_count": 3,
   "metadata": {},
   "outputs": [
    {
     "name": "stdout",
     "output_type": "stream",
     "text": [
      "Collecting cookiecutter\n",
      "  Downloading cookiecutter-2.1.1-py2.py3-none-any.whl (36 kB)\n",
      "Requirement already satisfied: Jinja2<4.0.0,>=2.7 in c:\\users\\nico\\anaconda3\\lib\\site-packages (from cookiecutter) (2.11.3)\n",
      "Requirement already satisfied: pyyaml>=5.3.1 in c:\\users\\nico\\anaconda3\\lib\\site-packages (from cookiecutter) (5.4.1)\n",
      "Requirement already satisfied: click<9.0.0,>=7.0 in c:\\users\\nico\\anaconda3\\lib\\site-packages (from cookiecutter) (7.1.2)\n",
      "Requirement already satisfied: requests>=2.23.0 in c:\\users\\nico\\anaconda3\\lib\\site-packages (from cookiecutter) (2.25.1)\n",
      "Collecting jinja2-time>=0.2.0\n",
      "  Downloading jinja2_time-0.2.0-py2.py3-none-any.whl (6.4 kB)\n",
      "Collecting python-slugify>=4.0.0\n",
      "  Downloading python_slugify-6.1.2-py2.py3-none-any.whl (9.4 kB)\n",
      "Collecting binaryornot>=0.4.4\n",
      "  Downloading binaryornot-0.4.4-py2.py3-none-any.whl (9.0 kB)\n",
      "Requirement already satisfied: chardet>=3.0.2 in c:\\users\\nico\\anaconda3\\lib\\site-packages (from binaryornot>=0.4.4->cookiecutter) (4.0.0)\n",
      "Requirement already satisfied: MarkupSafe>=0.23 in c:\\users\\nico\\anaconda3\\lib\\site-packages (from Jinja2<4.0.0,>=2.7->cookiecutter) (1.1.1)\n",
      "Collecting arrow\n",
      "  Downloading arrow-1.2.3-py3-none-any.whl (66 kB)\n",
      "Collecting text-unidecode>=1.3\n",
      "  Downloading text_unidecode-1.3-py2.py3-none-any.whl (78 kB)\n",
      "Requirement already satisfied: urllib3<1.27,>=1.21.1 in c:\\users\\nico\\anaconda3\\lib\\site-packages (from requests>=2.23.0->cookiecutter) (1.26.4)\n",
      "Requirement already satisfied: certifi>=2017.4.17 in c:\\users\\nico\\anaconda3\\lib\\site-packages (from requests>=2.23.0->cookiecutter) (2020.12.5)\n",
      "Requirement already satisfied: idna<3,>=2.5 in c:\\users\\nico\\anaconda3\\lib\\site-packages (from requests>=2.23.0->cookiecutter) (2.10)\n",
      "Requirement already satisfied: python-dateutil>=2.7.0 in c:\\users\\nico\\anaconda3\\lib\\site-packages (from arrow->jinja2-time>=0.2.0->cookiecutter) (2.8.1)\n",
      "Requirement already satisfied: six>=1.5 in c:\\users\\nico\\anaconda3\\lib\\site-packages (from python-dateutil>=2.7.0->arrow->jinja2-time>=0.2.0->cookiecutter) (1.15.0)\n",
      "Installing collected packages: text-unidecode, arrow, python-slugify, jinja2-time, binaryornot, cookiecutter\n",
      "Successfully installed arrow-1.2.3 binaryornot-0.4.4 cookiecutter-2.1.1 jinja2-time-0.2.0 python-slugify-6.1.2 text-unidecode-1.3\n"
     ]
    }
   ],
   "source": [
    "!pip install cookiecutter"
   ]
  },
  {
   "cell_type": "code",
   "execution_count": 4,
   "metadata": {},
   "outputs": [],
   "source": [
    "import cookiecutter"
   ]
  },
  {
   "cell_type": "code",
   "execution_count": 7,
   "metadata": {},
   "outputs": [
    {
     "name": "stdout",
     "output_type": "stream",
     "text": [
      "^C\n"
     ]
    }
   ],
   "source": [
    "## using pre-defined strcture of folders based on this GH template \n",
    "\n",
    "!cookiecutter https://github.com/khuyentran1401/data-science-template\n"
   ]
  }
 ],
 "metadata": {
  "kernelspec": {
   "display_name": "Python 3.8.8 ('base')",
   "language": "python",
   "name": "python3"
  },
  "language_info": {
   "codemirror_mode": {
    "name": "ipython",
    "version": 3
   },
   "file_extension": ".py",
   "mimetype": "text/x-python",
   "name": "python",
   "nbconvert_exporter": "python",
   "pygments_lexer": "ipython3",
   "version": "3.8.8"
  },
  "orig_nbformat": 4,
  "vscode": {
   "interpreter": {
    "hash": "34e8128e29b7ed1895e4d80c4e4085209096f3e91bb1891b855459ad7766fa74"
   }
  }
 },
 "nbformat": 4,
 "nbformat_minor": 2
}
