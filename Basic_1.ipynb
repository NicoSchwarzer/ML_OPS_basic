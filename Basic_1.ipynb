{
 "cells": [
  {
   "cell_type": "markdown",
   "metadata": {},
   "source": [
    "## ML OPS 1"
   ]
  },
  {
   "cell_type": "markdown",
   "metadata": {},
   "source": [
    "### Coockie Cutter for managing structure"
   ]
  },
  {
   "cell_type": "code",
   "execution_count": 3,
   "metadata": {},
   "outputs": [
    {
     "name": "stdout",
     "output_type": "stream",
     "text": [
      "Collecting cookiecutter\n",
      "  Downloading cookiecutter-2.1.1-py2.py3-none-any.whl (36 kB)\n",
      "Requirement already satisfied: Jinja2<4.0.0,>=2.7 in c:\\users\\nico\\anaconda3\\lib\\site-packages (from cookiecutter) (2.11.3)\n",
      "Requirement already satisfied: pyyaml>=5.3.1 in c:\\users\\nico\\anaconda3\\lib\\site-packages (from cookiecutter) (5.4.1)\n",
      "Requirement already satisfied: click<9.0.0,>=7.0 in c:\\users\\nico\\anaconda3\\lib\\site-packages (from cookiecutter) (7.1.2)\n",
      "Requirement already satisfied: requests>=2.23.0 in c:\\users\\nico\\anaconda3\\lib\\site-packages (from cookiecutter) (2.25.1)\n",
      "Collecting jinja2-time>=0.2.0\n",
      "  Downloading jinja2_time-0.2.0-py2.py3-none-any.whl (6.4 kB)\n",
      "Collecting python-slugify>=4.0.0\n",
      "  Downloading python_slugify-6.1.2-py2.py3-none-any.whl (9.4 kB)\n",
      "Collecting binaryornot>=0.4.4\n",
      "  Downloading binaryornot-0.4.4-py2.py3-none-any.whl (9.0 kB)\n",
      "Requirement already satisfied: chardet>=3.0.2 in c:\\users\\nico\\anaconda3\\lib\\site-packages (from binaryornot>=0.4.4->cookiecutter) (4.0.0)\n",
      "Requirement already satisfied: MarkupSafe>=0.23 in c:\\users\\nico\\anaconda3\\lib\\site-packages (from Jinja2<4.0.0,>=2.7->cookiecutter) (1.1.1)\n",
      "Collecting arrow\n",
      "  Downloading arrow-1.2.3-py3-none-any.whl (66 kB)\n",
      "Collecting text-unidecode>=1.3\n",
      "  Downloading text_unidecode-1.3-py2.py3-none-any.whl (78 kB)\n",
      "Requirement already satisfied: urllib3<1.27,>=1.21.1 in c:\\users\\nico\\anaconda3\\lib\\site-packages (from requests>=2.23.0->cookiecutter) (1.26.4)\n",
      "Requirement already satisfied: certifi>=2017.4.17 in c:\\users\\nico\\anaconda3\\lib\\site-packages (from requests>=2.23.0->cookiecutter) (2020.12.5)\n",
      "Requirement already satisfied: idna<3,>=2.5 in c:\\users\\nico\\anaconda3\\lib\\site-packages (from requests>=2.23.0->cookiecutter) (2.10)\n",
      "Requirement already satisfied: python-dateutil>=2.7.0 in c:\\users\\nico\\anaconda3\\lib\\site-packages (from arrow->jinja2-time>=0.2.0->cookiecutter) (2.8.1)\n",
      "Requirement already satisfied: six>=1.5 in c:\\users\\nico\\anaconda3\\lib\\site-packages (from python-dateutil>=2.7.0->arrow->jinja2-time>=0.2.0->cookiecutter) (1.15.0)\n",
      "Installing collected packages: text-unidecode, arrow, python-slugify, jinja2-time, binaryornot, cookiecutter\n",
      "Successfully installed arrow-1.2.3 binaryornot-0.4.4 cookiecutter-2.1.1 jinja2-time-0.2.0 python-slugify-6.1.2 text-unidecode-1.3\n"
     ]
    }
   ],
   "source": [
    "!pip install cookiecutter"
   ]
  },
  {
   "cell_type": "code",
   "execution_count": 4,
   "metadata": {},
   "outputs": [],
   "source": [
    "import cookiecutter"
   ]
  },
  {
   "cell_type": "code",
   "execution_count": null,
   "metadata": {},
   "outputs": [],
   "source": [
    "## using pre-defined strcture of folders based on this GH template \n",
    "\n",
    "!cookiecutter https://github.com/khuyentran1401/data-science-template\n"
   ]
  },
  {
   "cell_type": "markdown",
   "metadata": {},
   "source": [
    "## Poetry for Dependency Management"
   ]
  },
  {
   "cell_type": "code",
   "execution_count": null,
   "metadata": {},
   "outputs": [],
   "source": [
    "#!pip install poetry\n",
    "\n",
    "# as alternative for usiing well-updated requirement.txt file with structure such as \n",
    "\n",
    "#torch == version etc."
   ]
  },
  {
   "cell_type": "markdown",
   "metadata": {},
   "source": [
    "## Alternatively using requirements file"
   ]
  },
  {
   "cell_type": "code",
   "execution_count": null,
   "metadata": {},
   "outputs": [],
   "source": [
    "!pip install -r requirements.txt"
   ]
  },
  {
   "cell_type": "markdown",
   "metadata": {},
   "source": [
    "## Makefile for for readable commands for configuration files"
   ]
  },
  {
   "cell_type": "code",
   "execution_count": 2,
   "metadata": {},
   "outputs": [],
   "source": [
    "# more on this later"
   ]
  },
  {
   "cell_type": "markdown",
   "metadata": {},
   "source": [
    "# HYDRA / YAML\n",
    "\n",
    "creates configuration files (txt) that contain parameters essential to the DS project. Hard coding such relevant variables into the code is not best practice. \n",
    "YAML is the common language for this!\n",
    "\n",
    "Even without hydra, yaml can be used (see below) :)\n",
    "\n",
    "\n"
   ]
  },
  {
   "cell_type": "code",
   "execution_count": null,
   "metadata": {},
   "outputs": [],
   "source": [
    "!pip install hydra\n",
    "\n",
    "## does not seem to work!"
   ]
  },
  {
   "cell_type": "code",
   "execution_count": 12,
   "metadata": {},
   "outputs": [
    {
     "name": "stdout",
     "output_type": "stream",
     "text": [
      "name_1\n"
     ]
    }
   ],
   "source": [
    "## alternatively, in case that hydra cannot be loaded :)\n",
    "\n",
    "import yaml\n",
    "\n",
    "with open('yaml_try_1.yaml', 'r') as file:\n",
    "    yaml_output = yaml.safe_load(file)\n",
    "\n",
    "print(yaml_output['names']['name_1']) ## should work!\n"
   ]
  },
  {
   "cell_type": "markdown",
   "metadata": {},
   "source": [
    "## Pre-Committing (before commiting to GitHub)"
   ]
  },
  {
   "cell_type": "code",
   "execution_count": 17,
   "metadata": {},
   "outputs": [],
   "source": [
    "#!pip install pre-commit\n",
    "import pre_commit"
   ]
  },
  {
   "cell_type": "code",
   "execution_count": null,
   "metadata": {},
   "outputs": [],
   "source": [
    "### Black for forammting code (PEP-8, like line breaks)\n",
    "\n",
    "# using through terminal via command 'black name_of_code.py', example with non_pep_8_code.py (see below)"
   ]
  },
  {
   "cell_type": "code",
   "execution_count": 21,
   "metadata": {},
   "outputs": [
    {
     "name": "stdout",
     "output_type": "stream",
     "text": [
      "Current WD is c:\\Users\\Nico\\Documents\\Uni\\ML Ops\\Code_Data\\Structure\\notebooks\n"
     ]
    }
   ],
   "source": [
    "import os\n",
    "print(f'Current WD is {os.getcwd()}')"
   ]
  },
  {
   "cell_type": "code",
   "execution_count": 22,
   "metadata": {},
   "outputs": [
    {
     "name": "stderr",
     "output_type": "stream",
     "text": [
      "reformatted non_pep_8_code.py\n",
      "All done! ✨ 🍰 ✨\n",
      "1 file reformatted.\n"
     ]
    }
   ],
   "source": [
    "!black non_pep_8_code.py"
   ]
  },
  {
   "cell_type": "code",
   "execution_count": null,
   "metadata": {},
   "outputs": [],
   "source": [
    "### flake8 to check further style (PEP-8, like underscores etc.)"
   ]
  },
  {
   "cell_type": "code",
   "execution_count": 24,
   "metadata": {},
   "outputs": [],
   "source": [
    "!flake8 non_pep_8_code.py"
   ]
  },
  {
   "cell_type": "markdown",
   "metadata": {},
   "source": [
    "### Also using PyTest for Unit Testing"
   ]
  },
  {
   "cell_type": "code",
   "execution_count": 25,
   "metadata": {},
   "outputs": [],
   "source": [
    "import pytest"
   ]
  },
  {
   "cell_type": "code",
   "execution_count": 26,
   "metadata": {},
   "outputs": [],
   "source": [
    "## function example - these are also present in file 'pytest_try.py' as it needs to be in a .py file\n",
    "\n",
    "def func(x: float, max_num: int) -> float:\n",
    "  if x <= max_num:\n",
    "    return x + 5\n",
    "  else:\n",
    "    raise Exception(\"lower number!\")\n",
    "\n",
    "# class example \n",
    "class fruit(): \n",
    "\n",
    "  def __init__(self, name: str,  size: float, weight: float):\n",
    "\n",
    "    super().__init__()\n",
    "\n",
    "    self.size = size\n",
    "    self.weight = weight \n",
    "    self.name  = name\n",
    "\n",
    "  def weight_per_size(self):\n",
    "    return self.weight / self.size "
   ]
  },
  {
   "cell_type": "markdown",
   "metadata": {},
   "source": [
    "Another file with \"test_\" in the beginning of the name has to be present in the same WD - refer to test_pytest_try.py.\n",
    "Each unit test can now be executed via 'test_pytest_try.py::name_of_test_function' in the console!"
   ]
  },
  {
   "cell_type": "code",
   "execution_count": 28,
   "metadata": {},
   "outputs": [
    {
     "name": "stdout",
     "output_type": "stream",
     "text": [
      "============================= test session starts =============================\n",
      "platform win32 -- Python 3.8.8, pytest-6.2.3, py-1.10.0, pluggy-0.13.1\n",
      "rootdir: c:\\Users\\Nico\\Documents\\Uni\\ML Ops\\Code_Data\\Structure\\notebooks\n",
      "plugins: anyio-2.2.0\n",
      "collected 1 item\n",
      "\n",
      "test_pytest_try.py F                                                     [100%]\n",
      "\n",
      "================================== FAILURES ===================================\n",
      "__________________________________ test_two ___________________________________\n",
      "\n",
      "    def test_two():  ## running only this test via 'test_pytest_try.py::test_two' in the console!\n",
      "        #x = np.random.rand(10)\n",
      ">       assert func(3,2) ==  8\n",
      "\n",
      "test_pytest_try.py:17: \n",
      "_ _ _ _ _ _ _ _ _ _ _ _ _ _ _ _ _ _ _ _ _ _ _ _ _ _ _ _ _ _ _ _ _ _ _ _ _ _ _ _\n",
      "\n",
      "x = 3, max_num = 2\n",
      "\n",
      "    def func(x: float, max_num: int) -> float:\n",
      "      if x <= max_num:\n",
      "        return x + 5\n",
      "      else:\n",
      ">       raise Exception(\"lower number!\")\n",
      "E       Exception: lower number!\n",
      "\n",
      "pytest_try.py:19: Exception\n",
      "============================== warnings summary ===============================\n",
      "..\\..\\..\\..\\..\\..\\anaconda3\\lib\\site-packages\\pyreadline\\py3k_compat.py:8\n",
      "  C:\\Users\\Nico\\anaconda3\\lib\\site-packages\\pyreadline\\py3k_compat.py:8: DeprecationWarning: Using or importing the ABCs from 'collections' instead of from 'collections.abc' is deprecated since Python 3.3, and in 3.9 it will stop working\n",
      "    return isinstance(x, collections.Callable)\n",
      "\n",
      "-- Docs: https://docs.pytest.org/en/stable/warnings.html\n",
      "=========================== short test summary info ===========================\n",
      "FAILED test_pytest_try.py::test_two - Exception: lower number!\n",
      "======================== 1 failed, 1 warning in 9.18s =========================\n"
     ]
    }
   ],
   "source": [
    "## e.g.\n",
    "!pytest test_pytest_try.py::test_two ## shoud indicate failure since 3 > 2 "
   ]
  },
  {
   "cell_type": "code",
   "execution_count": null,
   "metadata": {},
   "outputs": [],
   "source": [
    "!pytest test_pytest_try.py::test_fruit ## should work as the name attribute is simply assigned to the class object \n"
   ]
  }
 ],
 "metadata": {
  "kernelspec": {
   "display_name": "Python 3.8.8 ('base')",
   "language": "python",
   "name": "python3"
  },
  "language_info": {
   "codemirror_mode": {
    "name": "ipython",
    "version": 3
   },
   "file_extension": ".py",
   "mimetype": "text/x-python",
   "name": "python",
   "nbconvert_exporter": "python",
   "pygments_lexer": "ipython3",
   "version": "3.8.8"
  },
  "orig_nbformat": 4,
  "vscode": {
   "interpreter": {
    "hash": "34e8128e29b7ed1895e4d80c4e4085209096f3e91bb1891b855459ad7766fa74"
   }
  }
 },
 "nbformat": 4,
 "nbformat_minor": 2
}
