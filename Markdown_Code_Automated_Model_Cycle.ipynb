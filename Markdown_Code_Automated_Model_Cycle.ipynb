{
 "cells": [
  {
   "cell_type": "markdown",
   "metadata": {},
   "source": [
    "# ML OPS 2\n",
    "\n",
    "### This Markdown file tracks important insights and corresponding code snippets and examples concerning the automated ML model cycle"
   ]
  },
  {
   "cell_type": "markdown",
   "metadata": {},
   "source": [
    "## PyCaret\n",
    "\n",
    "Nice Library to automate model development cycle that is all open-source. It wraps around ML development libraries such as Scikit-Learn (!), Spacy  and deployment librarie such as Plotly etc. \n",
    "It does not directly integrate with Torch, yet *SKORCH is a Scikit-Learn wrapper for PyTorch that makes it possible to train Neural Networks with sklearn-like API, which is what PyCaret expects!* (see here: https://towardsdatascience.com/pycaret-skorch-build-pytorch-neural-networks-using-minimal-code-57079e197f33)."
   ]
  },
  {
   "cell_type": "code",
   "execution_count": null,
   "metadata": {},
   "outputs": [],
   "source": [
    "!"
   ]
  },
  {
   "cell_type": "code",
   "execution_count": 3,
   "metadata": {},
   "outputs": [],
   "source": [
    "!pip install pycaret --user"
   ]
  },
  {
   "cell_type": "code",
   "execution_count": null,
   "metadata": {},
   "outputs": [],
   "source": [
    "#!pip install pycaret # takes a long time!\n",
    "import pycaret"
   ]
  }
 ],
 "metadata": {
  "kernelspec": {
   "display_name": "Python 3.8.8 ('base')",
   "language": "python",
   "name": "python3"
  },
  "language_info": {
   "codemirror_mode": {
    "name": "ipython",
    "version": 3
   },
   "file_extension": ".py",
   "mimetype": "text/x-python",
   "name": "python",
   "nbconvert_exporter": "python",
   "pygments_lexer": "ipython3",
   "version": "3.8.8"
  },
  "orig_nbformat": 4,
  "vscode": {
   "interpreter": {
    "hash": "34e8128e29b7ed1895e4d80c4e4085209096f3e91bb1891b855459ad7766fa74"
   }
  }
 },
 "nbformat": 4,
 "nbformat_minor": 2
}
